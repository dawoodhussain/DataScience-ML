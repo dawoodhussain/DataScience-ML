{
 "cells": [
  {
   "cell_type": "markdown",
   "metadata": {},
   "source": [
    "# What is K-Nearest Neighbours?\n",
    "### K-nearest neighbour is a supervised classification algorithm that predicts the output based on trained data.\n",
    "### for this algorithm both train & test data are required to train the model. you'll know why we need both here unlike other algorithms in a while\n",
    "\n",
    "## How does it predict the output based on trained data?\n",
    "### this happens based on euclidean distance that is calculated from the trained data\n",
    "\n",
    "## What is euclidean distance?\n",
    "### it is a distance between two points x & y\n",
    "### in machine learning, it is a distance between trained data & test data. (Now you know why we need both train & test data for this algorithm to train a model)\n",
    "### formula of Euclidean distance = Sqrt( SUM( (x-y)**2) ) )\n",
    "\n",
    "## K-nearst neighbour algorithm can be built using any of the below distances:\n",
    "### Euclidean distance\n",
    "### Manhattan distance\n",
    "### Minkowski distance\n",
    "### Cosine similarity\n",
    "### Jaccard similarity\n",
    "### you can get for more details & clear picturization of these distances in the below link:\n",
    "https://dataaspirant.com/2015/04/11/five-most-popular-similarity-measures-implementation-in-python/\n",
    "\n",
    "### Among these Euclidean distnace is very popular. so am choosing this for building our model\n",
    "### Example of euclidean distance:\n",
    "### two points (x1,x2) and (y1,y2).  ED = sqrt( SUM( (x1-y1)**2 + (x2-y2)**2 ) )"
   ]
  },
  {
   "cell_type": "markdown",
   "metadata": {},
   "source": [
    "## steps to build the KNN model:\n",
    "### 1) load and split the data into train & test data (in 70:30 % ratio)\n",
    "### 2) calculate euclidean distance for each train data w.r.to its test data\n",
    "### 3) pick the top K element distances as neighbors\n",
    "### 4) calculate the class of the neighbors to confirm the majority class and outcome the majority class as its prediction\n",
    "### 5) calculate the accuracy of the model\n",
    "\n",
    "### 7. If regression, return the mean of the K labels\n",
    "### 8. If classification, return the mode of the K labels"
   ]
  },
  {
   "cell_type": "markdown",
   "metadata": {},
   "source": [
    "## Let's start building our KNN Model using Euclidean distance"
   ]
  },
  {
   "cell_type": "code",
   "execution_count": 297,
   "metadata": {},
   "outputs": [],
   "source": [
    "# download iris dataset from here\n",
    "#https://www.kaggle.com/arshid/iris-flower-dataset/home\n",
    "\n",
    "import csv\n",
    "import math\n",
    "import operator\n",
    "import random\n",
    "\n",
    "#1) load and split the data\n",
    "def loadDataset(filename, split, trainingSet=[], testSet=[]):\n",
    "    with open(filename, 'rb') as csvfile:\n",
    "        lines = csv.reader(csvfile)\n",
    "        dataset = list(lines)\n",
    "        #print(dataset)\n",
    "        for x in range(1,len(dataset)-1):\n",
    "            for y in range(4):\n",
    "                dataset[x][y] = float(dataset[x][y])\n",
    "            if random.random() < split:\n",
    "                trainingSet.append(dataset[x])\n",
    "            else:\n",
    "                testSet.append(dataset[x])"
   ]
  },
  {
   "cell_type": "code",
   "execution_count": 283,
   "metadata": {},
   "outputs": [],
   "source": [
    "#2) calculate euclidean distance for each train data w.r.to its test data\n",
    "def euclideanDistance(instance1, instance2, length):\n",
    "    distance = 0\n",
    "    for x in range(length):\n",
    "        distance += pow((instance1[x] - instance2[x]), 2)\n",
    "    return math.sqrt(distance)"
   ]
  },
  {
   "cell_type": "markdown",
   "metadata": {},
   "source": [
    "## In KNN there is no training phase. for each new data, It calculates Euclidean distance and compares with the nearest K neighbors. Class with maximum no. of data points in nearest K neighbors list is chosen as the class of new data point. We can choose the value of K to be n^(1/2) i.e., the square root of no. of data points else we can test our results by putting different K values"
   ]
  },
  {
   "cell_type": "code",
   "execution_count": 298,
   "metadata": {},
   "outputs": [],
   "source": [
    "#3) get neighbors based on K value\n",
    "def getNeighbors(trainingSet, testInstance, k):\n",
    "    distances = []\n",
    "    length = len(testInstance)-1\n",
    "    for x in range(len(trainingSet)):\n",
    "        dist = euclideanDistance(testInstance, trainingSet[x], length)\n",
    "        distances.append((trainingSet[x], dist))\n",
    "    distances.sort(key=operator.itemgetter(1))\n",
    "    neighbors = []\n",
    "    for x in range(k):\n",
    "        neighbors.append(distances[x][0])\n",
    "    return neighbors\n",
    "\n",
    "#4) identify class of those neighbors\n",
    "def getResponse(neighbors):\n",
    "    classVotes = {}\n",
    "    for x in range(len(neighbors)):\n",
    "        response = neighbors[x][-1]\n",
    "        if response in classVotes:\n",
    "            classVotes[response] += 1\n",
    "        else:\n",
    "            classVotes[response] = 1\n",
    "    sortedVotes = sorted(classVotes.iteritems(), key=operator.itemgetter(1), reverse=True)\n",
    "    return sortedVotes[0][0]"
   ]
  },
  {
   "cell_type": "code",
   "execution_count": 299,
   "metadata": {},
   "outputs": [],
   "source": [
    "#5) finding accuracy of our model\n",
    "def getAccuracy(testSet, predictions):\n",
    "    correct = 0\n",
    "    for x in range(len(testSet)):\n",
    "        if testSet[x][-1] == predictions[x]:\n",
    "            correct += 1\n",
    "    return (correct/float(len(testSet))) * 100.0"
   ]
  },
  {
   "cell_type": "markdown",
   "metadata": {},
   "source": [
    "## Now testing the model using above pieces"
   ]
  },
  {
   "cell_type": "code",
   "execution_count": 305,
   "metadata": {
    "scrolled": true
   },
   "outputs": [
    {
     "data": {
      "text/plain": [
       "98.27586206896551"
      ]
     },
     "execution_count": 305,
     "metadata": {},
     "output_type": "execute_result"
    }
   ],
   "source": [
    "def main(k):\n",
    "    # prepare data\n",
    "    trainingSet=[]\n",
    "    testSet=[]\n",
    "    split = 0.67\n",
    "    filepath = r'E:\\SimpliLearn\\Data Science with Python\\ML Algorithms Implementation\\K-Nearest Neighbors using Euclidean distance\\IRIS.csv'\n",
    "    loadDataset(filepath, split, trainingSet, testSet)\n",
    "    #print 'Train set: ' + repr(len(trainingSet))\n",
    "    #print 'Test set: ' + repr(len(testSet))\n",
    "    # generate predictions\n",
    "    predictions=[]\n",
    "    for x in range(len(testSet)):\n",
    "        neighbors = getNeighbors(trainingSet, testSet[x], k)\n",
    "        result = getResponse(neighbors)\n",
    "        predictions.append(result)\n",
    "        #print('> predicted=' + repr(result) + ', actual=' + repr(testSet[x][-1]))\n",
    "    accuracy = getAccuracy(testSet, predictions)\n",
    "    #print('Accuracy: ' + repr(accuracy) + '%')\n",
    "    return accuracy\n",
    "main(3)"
   ]
  },
  {
   "cell_type": "markdown",
   "metadata": {},
   "source": [
    "## Finding better value for k"
   ]
  },
  {
   "cell_type": "code",
   "execution_count": 309,
   "metadata": {},
   "outputs": [
    {
     "name": "stdout",
     "output_type": "stream",
     "text": [
      "('k-value : ', 1, 'Accuracy : ', 92.3076923076923)\n",
      "('k-value : ', 2, 'Accuracy : ', 97.87234042553192)\n",
      "('k-value : ', 3, 'Accuracy : ', 95.23809523809523)\n",
      "('k-value : ', 4, 'Accuracy : ', 94.54545454545455)\n",
      "('k-value : ', 5, 'Accuracy : ', 96.49122807017544)\n",
      "('k-value : ', 6, 'Accuracy : ', 95.55555555555556)\n",
      "('k-value : ', 7, 'Accuracy : ', 96.15384615384616)\n"
     ]
    }
   ],
   "source": [
    "for x in range(1,8):\n",
    "   print('k-value : ',x,'Accuracy : ',main(x))"
   ]
  },
  {
   "cell_type": "code",
   "execution_count": null,
   "metadata": {},
   "outputs": [],
   "source": []
  }
 ],
 "metadata": {
  "kernelspec": {
   "display_name": "Python 2",
   "language": "python",
   "name": "python2"
  },
  "language_info": {
   "codemirror_mode": {
    "name": "ipython",
    "version": 2
   },
   "file_extension": ".py",
   "mimetype": "text/x-python",
   "name": "python",
   "nbconvert_exporter": "python",
   "pygments_lexer": "ipython2",
   "version": "2.7.15"
  }
 },
 "nbformat": 4,
 "nbformat_minor": 2
}
