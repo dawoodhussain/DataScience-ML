{
 "cells": [
  {
   "cell_type": "code",
   "execution_count": 16,
   "metadata": {},
   "outputs": [],
   "source": [
    "import cv2 as cv"
   ]
  },
  {
   "cell_type": "code",
   "execution_count": 17,
   "metadata": {},
   "outputs": [
    {
     "name": "stdout",
     "output_type": "stream",
     "text": [
      "[[ 69 118 222 ...  70  70  70]\n",
      " [ 74 118 219 ...  69  69  69]\n",
      " [ 70 108 212 ...  68  68  68]\n",
      " ...\n",
      " [ 16  14  14 ...  11  10   9]\n",
      " [ 15  17  19 ...  15  13  11]\n",
      " [  9  14  20 ...  12   9   8]]\n"
     ]
    }
   ],
   "source": [
    "# Read image from your local file system\n",
    "original_image = cv.imread('actresses.jpg')\n",
    "# Convert color image to grayscale for Viola-Jones\n",
    "grayscale_image = cv.cvtColor(original_image, cv.COLOR_BGR2GRAY)\n",
    "print(grayscale_image)"
   ]
  },
  {
   "cell_type": "code",
   "execution_count": 18,
   "metadata": {},
   "outputs": [],
   "source": [
    "# Load the classifier and create a cascade object for face detection\n",
    "face_cascade = cv.CascadeClassifier('haarcascade_frontalface_alt.xml')"
   ]
  },
  {
   "cell_type": "code",
   "execution_count": 19,
   "metadata": {},
   "outputs": [],
   "source": [
    "detected_faces = face_cascade.detectMultiScale(grayscale_image)"
   ]
  },
  {
   "cell_type": "code",
   "execution_count": 20,
   "metadata": {},
   "outputs": [],
   "source": [
    "for (column, row, width, height) in detected_faces:\n",
    "    cv.rectangle(\n",
    "    original_image,\n",
    "    (column, row),\n",
    "    (column + width, row + height),\n",
    "    (0, 255, 0),\n",
    "    2\n",
    "    )"
   ]
  },
  {
   "cell_type": "code",
   "execution_count": 21,
   "metadata": {},
   "outputs": [],
   "source": [
    "img = cv.resize(original_image, (800, 800))\n",
    "cv.imshow('Image', img)\n",
    "cv.waitKey(0)\n",
    "cv.destroyAllWindows()"
   ]
  },
  {
   "cell_type": "code",
   "execution_count": null,
   "metadata": {},
   "outputs": [],
   "source": []
  }
 ],
 "metadata": {
  "kernelspec": {
   "display_name": "Python 3",
   "language": "python",
   "name": "python3"
  },
  "language_info": {
   "codemirror_mode": {
    "name": "ipython",
    "version": 3
   },
   "file_extension": ".py",
   "mimetype": "text/x-python",
   "name": "python",
   "nbconvert_exporter": "python",
   "pygments_lexer": "ipython3",
   "version": "3.7.1"
  }
 },
 "nbformat": 4,
 "nbformat_minor": 2
}
