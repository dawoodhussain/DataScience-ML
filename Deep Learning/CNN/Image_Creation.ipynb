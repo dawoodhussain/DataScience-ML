{
 "cells": [
  {
   "cell_type": "code",
   "execution_count": 1,
   "metadata": {},
   "outputs": [],
   "source": [
    "import os\n",
    "from PIL import Image"
   ]
  },
  {
   "cell_type": "code",
   "execution_count": 2,
   "metadata": {},
   "outputs": [],
   "source": [
    "def CreateImages(filepath, key): \n",
    "    try: \n",
    "        for file in os.listdir(filepath):\n",
    "            #crop filename\n",
    "            oldfile = filepath + '\\\\' + file\n",
    "            newfile = os.path.splitext(file)[0]\n",
    "            newfile = filepath + '\\\\' + newfile+ str(key) + \"_Gen.jpg\"\n",
    "            #Relative Path \n",
    "            img = Image.open(oldfile)  \n",
    "            \n",
    "            #Angle given \n",
    "            img = img.rotate(key)  \n",
    "              \n",
    "            #Saved in the same relative location \n",
    "            img.save(newfile) \n",
    "            \n",
    "            #close the original image\n",
    "            img.close()\n",
    "    except IOError as e: \n",
    "        print(e)"
   ]
  },
  {
   "cell_type": "code",
   "execution_count": 3,
   "metadata": {},
   "outputs": [
    {
     "name": "stderr",
     "output_type": "stream",
     "text": [
      "C:\\Users\\msdaw\\Anaconda3\\lib\\site-packages\\PIL\\TiffImagePlugin.py:754: UserWarning: Possibly corrupt EXIF data.  Expecting to read 206 bytes but only got 0. Skipping tag 0\n",
      "  \" Skipping tag %s\" % (size, len(data), tag))\n",
      "C:\\Users\\msdaw\\Anaconda3\\lib\\site-packages\\PIL\\TiffImagePlugin.py:754: UserWarning: Possibly corrupt EXIF data.  Expecting to read 724 bytes but only got 0. Skipping tag 0\n",
      "  \" Skipping tag %s\" % (size, len(data), tag))\n",
      "C:\\Users\\msdaw\\Anaconda3\\lib\\site-packages\\PIL\\TiffImagePlugin.py:754: UserWarning: Possibly corrupt EXIF data.  Expecting to read 65536 bytes but only got 0. Skipping tag 0\n",
      "  \" Skipping tag %s\" % (size, len(data), tag))\n",
      "C:\\Users\\msdaw\\Anaconda3\\lib\\site-packages\\PIL\\TiffImagePlugin.py:754: UserWarning: Possibly corrupt EXIF data.  Expecting to read 170 bytes but only got 0. Skipping tag 0\n",
      "  \" Skipping tag %s\" % (size, len(data), tag))\n",
      "C:\\Users\\msdaw\\Anaconda3\\lib\\site-packages\\PIL\\TiffImagePlugin.py:754: UserWarning: Possibly corrupt EXIF data.  Expecting to read 178 bytes but only got 0. Skipping tag 0\n",
      "  \" Skipping tag %s\" % (size, len(data), tag))\n",
      "C:\\Users\\msdaw\\Anaconda3\\lib\\site-packages\\PIL\\TiffImagePlugin.py:771: UserWarning: Corrupt EXIF data.  Expecting to read 12 bytes but only got 4. \n",
      "  warnings.warn(str(msg))\n"
     ]
    }
   ],
   "source": [
    "filepath = r'C:\\Users\\msdaw\\Documents\\Python Scripts\\Deep Learning\\Image classification\\v_data\\train\\Asma'\n",
    "CreateImages(filepath,90)\n",
    "CreateImages(filepath,180)"
   ]
  },
  {
   "cell_type": "code",
   "execution_count": 8,
   "metadata": {},
   "outputs": [],
   "source": [
    "filepath = r'C:\\Users\\msdaw\\Documents\\Python Scripts\\Deep Learning\\Image classification\\v_data\\test\\Dawood'\n",
    "CreateImages(filepath,90)\n",
    "CreateImages(filepath,180)"
   ]
  },
  {
   "cell_type": "code",
   "execution_count": 9,
   "metadata": {},
   "outputs": [],
   "source": [
    "filepath = r'C:\\Users\\msdaw\\Documents\\Python Scripts\\Deep Learning\\Image classification\\v_data\\test\\Asma'\n",
    "CreateImages(filepath,90)\n",
    "CreateImages(filepath,180)"
   ]
  },
  {
   "cell_type": "code",
   "execution_count": null,
   "metadata": {},
   "outputs": [],
   "source": []
  }
 ],
 "metadata": {
  "kernelspec": {
   "display_name": "Python 3",
   "language": "python",
   "name": "python3"
  },
  "language_info": {
   "codemirror_mode": {
    "name": "ipython",
    "version": 3
   },
   "file_extension": ".py",
   "mimetype": "text/x-python",
   "name": "python",
   "nbconvert_exporter": "python",
   "pygments_lexer": "ipython3",
   "version": "3.7.1"
  }
 },
 "nbformat": 4,
 "nbformat_minor": 2
}
