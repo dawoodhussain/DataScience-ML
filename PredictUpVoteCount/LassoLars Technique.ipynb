{
 "cells": [
  {
   "cell_type": "code",
   "execution_count": 1,
   "metadata": {},
   "outputs": [],
   "source": [
    "import pandas as pd\n",
    "import numpy as np\n",
    "from  sklearn.model_selection import train_test_split, GridSearchCV\n",
    "from sklearn.metrics import r2_score,mean_squared_error\n",
    "from sklearn.preprocessing import LabelEncoder\n",
    "from sklearn.preprocessing import StandardScaler\n",
    "from sklearn import linear_model\n",
    "from sklearn.preprocessing import PolynomialFeatures\n",
    "import xgboost as xgb\n",
    "from sklearn.ensemble import RandomForestRegressor,GradientBoostingRegressor\n",
    "import matplotlib.pyplot as plt\n",
    "%matplotlib inline\n",
    "import time\n",
    "\n",
    "import warnings\n",
    "warnings.filterwarnings('ignore')"
   ]
  },
  {
   "cell_type": "code",
   "execution_count": 2,
   "metadata": {},
   "outputs": [],
   "source": [
    "def root_mean_square_error(model,predictedval,actualval):\n",
    "    print(model + ' Value ',np.sqrt(mean_squared_error(predictedval, actualval)))\n",
    "    print(model + ' r2_score ',r2_score(predictedval,actualval))\n",
    "    return np.sqrt(mean_squared_error(predictedval, actualval))\n",
    "\n",
    "def runtime(t0):\n",
    "    return time.time()-t0"
   ]
  },
  {
   "cell_type": "code",
   "execution_count": 3,
   "metadata": {},
   "outputs": [],
   "source": [
    "train = pd.read_csv('PredictUpVoteCount/train_NIR5Yl1.csv')\n",
    "train = train.drop(train[train.Views > 3000000].index)\n",
    "\n",
    "labelencoder_X = LabelEncoder()\n",
    "train['Tag'] = labelencoder_X.fit_transform(train['Tag'])\n",
    "train.drop(['ID','Username'], axis=1,inplace =True)\n",
    "target = train['Upvotes']\n",
    "\n",
    "from sklearn.preprocessing import Binarizer\n",
    "bn = Binarizer(threshold=7)\n",
    "pd_watched = bn.transform([train['Answers']])[0]\n",
    "train['pd_watched'] = pd_watched"
   ]
  },
  {
   "cell_type": "code",
   "execution_count": 4,
   "metadata": {},
   "outputs": [
    {
     "name": "stdout",
     "output_type": "stream",
     "text": [
      "Lasso Value  1031.2427124694427\n",
      "Lasso r2_score  0.8919300198031876\n"
     ]
    },
    {
     "data": {
      "text/plain": [
       "1031.2427124694427"
      ]
     },
     "execution_count": 4,
     "metadata": {},
     "output_type": "execute_result"
    }
   ],
   "source": [
    "feature_names = [x for x in train.columns if x not in ['Upvotes']]\n",
    "\n",
    "x_train, x_val, y_train, y_val = train_test_split(train[feature_names], target,test_size = 0.22,random_state =205)\n",
    "sc_X = StandardScaler()\n",
    "x_train = sc_X.fit_transform(x_train)\n",
    "x_val = sc_X.transform(x_val)\n",
    "\n",
    "poly_reg = PolynomialFeatures(degree = 4,interaction_only=False, include_bias=True)\n",
    "X_poly = poly_reg.fit_transform(x_train)\n",
    "poly_reg.fit(x_train, y_train)\n",
    "\n",
    "x_val = poly_reg.fit_transform(x_val)\n",
    "\n",
    "lin_reg_1 = linear_model.LassoLars(alpha=0.021,max_iter=150)\n",
    "lin_reg_1.fit(X_poly, y_train)\n",
    "\n",
    "# predicitng \n",
    "pred_val = lin_reg_1.predict(x_val)\n",
    "root_mean_square_error('Lasso',pred_val,y_val)"
   ]
  },
  {
   "cell_type": "code",
   "execution_count": 5,
   "metadata": {},
   "outputs": [
    {
     "name": "stdout",
     "output_type": "stream",
     "text": [
      "[ 91.18553616 101.86504551  43.73542342  28.52187173  40.49542904\n",
      " 363.1722602   20.81405094  36.46497896 295.70219664  32.7740222 ]\n"
     ]
    }
   ],
   "source": [
    "print(pred_val[0:10])"
   ]
  },
  {
   "cell_type": "code",
   "execution_count": 6,
   "metadata": {},
   "outputs": [
    {
     "name": "stdout",
     "output_type": "stream",
     "text": [
      "132133     58.0\n",
      "280391     95.0\n",
      "60588      22.0\n",
      "73372      21.0\n",
      "177614     10.0\n",
      "113956    356.0\n",
      "128235     10.0\n",
      "139340     19.0\n",
      "21479     440.0\n",
      "40749       7.0\n",
      "Name: Upvotes, dtype: float64\n"
     ]
    }
   ],
   "source": [
    "print(y_val[0:10])"
   ]
  },
  {
   "cell_type": "markdown",
   "metadata": {},
   "source": [
    "## Using GridSearchCV for Optimization"
   ]
  },
  {
   "cell_type": "code",
   "execution_count": 45,
   "metadata": {},
   "outputs": [],
   "source": [
    "feature_names = [x for x in train.columns if x not in ['Upvotes']]\n",
    "\n",
    "sc_y = StandardScaler()\n",
    "X = StandardScaler().fit_transform(train[feature_names])\n",
    "y = train['Upvotes'].values.reshape(-1,1)\n",
    "\n",
    "x_train, x_val, y_train, y_val = train_test_split(X, y,test_size = 0.22,random_state =205)\n",
    "\n",
    "poly_reg = PolynomialFeatures(degree = 4,interaction_only=False, include_bias=True)\n",
    "X_poly = poly_reg.fit_transform(x_train)\n",
    "poly_reg.fit(x_train, y_train)\n",
    "\n",
    "x_val = poly_reg.fit_transform(x_val)"
   ]
  },
  {
   "cell_type": "code",
   "execution_count": 52,
   "metadata": {},
   "outputs": [
    {
     "name": "stdout",
     "output_type": "stream",
     "text": [
      "Time taken: 197.53719806671143\n"
     ]
    }
   ],
   "source": [
    "hyper_params = [\n",
    "    {\n",
    "        'alpha': (1e-04,0.001,0.01,0.021,0.1,1,),\n",
    "        'normalize':[False]\n",
    "    },\n",
    "]\n",
    "\n",
    "est=linear_model.LassoLars()\n",
    "\n",
    "grid_clf = GridSearchCV(est,cv=10,param_grid=hyper_params,\n",
    "                   verbose=0,n_jobs=1,scoring='r2')\n",
    "\n",
    "t0 = time.time()\n",
    "#fit model\n",
    "grid_clf.fit(X_poly,y_train.ravel())\n",
    "#get fit time\n",
    "print('Time taken:',runtime(t0))"
   ]
  },
  {
   "cell_type": "code",
   "execution_count": 53,
   "metadata": {},
   "outputs": [
    {
     "name": "stdout",
     "output_type": "stream",
     "text": [
      "Lasso Value  1084.126024233726\n",
      "Lasso r2_score  0.8822167303670048\n"
     ]
    },
    {
     "data": {
      "text/plain": [
       "1084.126024233726"
      ]
     },
     "execution_count": 53,
     "metadata": {},
     "output_type": "execute_result"
    }
   ],
   "source": [
    "predval = grid_clf.best_estimator_.predict(x_val)\n",
    "root_mean_square_error('Lasso',predval,y_val)"
   ]
  },
  {
   "cell_type": "code",
   "execution_count": 54,
   "metadata": {},
   "outputs": [
    {
     "data": {
      "text/plain": [
       "LassoLars(alpha=1, copy_X=True, eps=2.220446049250313e-16, fit_intercept=True,\n",
       "     fit_path=True, max_iter=500, normalize=False, positive=False,\n",
       "     precompute='auto', verbose=False)"
      ]
     },
     "execution_count": 54,
     "metadata": {},
     "output_type": "execute_result"
    }
   ],
   "source": [
    "grid_clf.best_estimator_"
   ]
  },
  {
   "cell_type": "code",
   "execution_count": 7,
   "metadata": {},
   "outputs": [
    {
     "name": "stdout",
     "output_type": "stream",
     "text": [
      "Lasso Value  1084.1128450601204\n",
      "Lasso r2_score  0.882218794620646\n"
     ]
    },
    {
     "data": {
      "text/plain": [
       "1084.1128450601204"
      ]
     },
     "execution_count": 7,
     "metadata": {},
     "output_type": "execute_result"
    }
   ],
   "source": [
    "est=linear_model.LassoLars(alpha=1, copy_X=True, eps=2.220446049250313e-16, fit_intercept=True,\n",
    "     fit_path=True, max_iter=500, normalize=False, positive=False,\n",
    "     precompute='auto', verbose=False)\n",
    "\n",
    "est.fit(X_poly,y_train.ravel())\n",
    "\n",
    "opredval = est.predict(x_val)\n",
    "root_mean_square_error('Lasso',opredval,y_val)"
   ]
  },
  {
   "cell_type": "code",
   "execution_count": 8,
   "metadata": {},
   "outputs": [
    {
     "name": "stdout",
     "output_type": "stream",
     "text": [
      "[235.31205151  20.30935546  44.13477657  27.29331949  12.84526146\n",
      " 323.67588907  54.42431059  26.87823001 303.00505649 -19.75936277]\n"
     ]
    }
   ],
   "source": [
    "print(opredval[0:10])"
   ]
  },
  {
   "cell_type": "code",
   "execution_count": 11,
   "metadata": {},
   "outputs": [
    {
     "name": "stdout",
     "output_type": "stream",
     "text": [
      "Lasso Value  1046.0078513679746\n",
      "Lasso r2_score  0.8893064230727232\n"
     ]
    },
    {
     "data": {
      "text/plain": [
       "1046.0078513679746"
      ]
     },
     "execution_count": 11,
     "metadata": {},
     "output_type": "execute_result"
    }
   ],
   "source": [
    "FinalPred = (pred_val+opredval)/2\n",
    "\n",
    "root_mean_square_error('Lasso',FinalPred,y_val)"
   ]
  },
  {
   "cell_type": "markdown",
   "metadata": {},
   "source": [
    "## Test Submission"
   ]
  },
  {
   "cell_type": "code",
   "execution_count": 55,
   "metadata": {},
   "outputs": [],
   "source": [
    "df_test = pd.read_csv('PredictUpVoteCount/test_8i3B3FC.csv')\n",
    "ids = df_test['ID']\n",
    "df_test.drop(['ID','Username'], axis=1,inplace =True)\n",
    "\n",
    "labelencoder_X = LabelEncoder()\n",
    "df_test['Tag'] = labelencoder_X.fit_transform(df_test['Tag'])\n",
    "\n",
    "bn = Binarizer(threshold=7)\n",
    "pd_watched = bn.transform([df_test['Answers']])[0]\n",
    "df_test['pd_watched'] = pd_watched\n",
    "\n",
    "df_test = sc_X.fit_transform(df_test)\n",
    "df_test_poly = poly_reg.fit_transform(df_test)\n",
    "\n",
    "#pred_test = lin_reg_1.predict(df_test_poly)\n",
    "pred_test = grid_clf.best_estimator_.predict(df_test_poly)\n",
    "pred_test=abs(pred_test)"
   ]
  },
  {
   "cell_type": "code",
   "execution_count": 56,
   "metadata": {},
   "outputs": [],
   "source": [
    "submission = pd.DataFrame({'ID': ids,\n",
    "                           'Upvotes':pred_test\n",
    "                           })\n",
    "\n",
    "submission.to_csv(\"final_sub7.csv\",index=False)"
   ]
  },
  {
   "cell_type": "code",
   "execution_count": null,
   "metadata": {},
   "outputs": [],
   "source": []
  }
 ],
 "metadata": {
  "kernelspec": {
   "display_name": "Python 3",
   "language": "python",
   "name": "python3"
  },
  "language_info": {
   "codemirror_mode": {
    "name": "ipython",
    "version": 3
   },
   "file_extension": ".py",
   "mimetype": "text/x-python",
   "name": "python",
   "nbconvert_exporter": "python",
   "pygments_lexer": "ipython3",
   "version": "3.7.1"
  }
 },
 "nbformat": 4,
 "nbformat_minor": 2
}
