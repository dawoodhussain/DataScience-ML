{
 "cells": [
  {
   "cell_type": "markdown",
   "metadata": {},
   "source": [
    "## Measure of Centrality"
   ]
  },
  {
   "cell_type": "markdown",
   "metadata": {},
   "source": [
    "## formaulae for Mean, Median, Mode"
   ]
  },
  {
   "cell_type": "code",
   "execution_count": 1,
   "metadata": {},
   "outputs": [
    {
     "name": "stdout",
     "output_type": "stream",
     "text": [
      "(7.785714285714286, 4.0, [2, 3])\n"
     ]
    }
   ],
   "source": [
    "from __future__ import division\n",
    "from collections import Counter\n",
    "import math\n",
    "\n",
    "def Mean(x):\n",
    "    return sum(x)/len(x)\n",
    "\n",
    "def Median(x):\n",
    "    n = len(x)\n",
    "    sorted_x = sorted(x)\n",
    "    midpoint = n//2 #// will give only integer value & no float values\n",
    "    \n",
    "    if n%2 == 1:\n",
    "        return sorted_x[midpoint]\n",
    "    else:\n",
    "        return (sorted_x[midpoint-1]+sorted_x[midpoint])/2\n",
    "\n",
    "def Mode(x):\n",
    "    counts = Counter(x)\n",
    "    max_count = max(counts.values())\n",
    "    return [x_i for x_i,counts in counts.iteritems() if counts == max_count]\n",
    "\n",
    "\n",
    "#example\n",
    "arr = [1,2,2,2,5,6,7,8,9,22,36,3,3,3]\n",
    "print(Mean(arr), Median(arr),Mode(arr))"
   ]
  },
  {
   "cell_type": "markdown",
   "metadata": {},
   "source": [
    "## Quantile, interquartile, quartile\n",
    "### interquartile range : difference between 75% and 25%\n",
    "### quartile range : 50% value. i.e., median which represents the value less than 50% of the data lies"
   ]
  },
  {
   "cell_type": "code",
   "execution_count": 4,
   "metadata": {
    "scrolled": false
   },
   "outputs": [
    {
     "name": "stdout",
     "output_type": "stream",
     "text": [
      "[1, 2, 2, 2, 5, 6, 7, 8, 9, 22, 36, 3, 3, 3]\n",
      "5\n",
      "2\n",
      "8\n",
      "2\n"
     ]
    },
    {
     "data": {
      "image/png": "[encoded data removed]",
      "text/plain": [
       "<Figure size 432x288 with 1 Axes>"
      ]
     },
     "metadata": {
      "needs_background": "light"
     },
     "output_type": "display_data"
    }
   ],
   "source": [
    "def quantile(x,p):\n",
    "    \"\"\"reutrns pth percentile value in x\"\"\"\n",
    "    p_index = int(p*len(x))\n",
    "    v_sorted = sorted(x)\n",
    "    return v_sorted[p_index]\n",
    "\n",
    "print(arr)\n",
    "#quartile\n",
    "print(quantile(arr,0.5))\n",
    "print(quantile(arr,0.25))\n",
    "print(quantile(arr,0.75))\n",
    "print(quantile(arr,0.1))\n",
    "\n",
    "def inter_quartile(x):\n",
    "    return quantile(x,0.75) - quantile(x,0.25)\n",
    "\n",
    "import matplotlib.pyplot as plt\n",
    "%matplotlib inline\n",
    "\n",
    "#boxers and whiskers plot shows a box from 25th percentile to 75% percentile. Orange line in the box is 50th percentile or median\n",
    "#values outside of the box is called as outliers in green symbol\n",
    "plt.boxplot(arr,0,'gD')\n",
    "plt.show()"
   ]
  },
  {
   "cell_type": "markdown",
   "metadata": {},
   "source": [
    "## Measure of variability/Dispersion\n",
    "### Range, Variance, standard deviation,Mean Absolute deviation, Median Absolute deviation, Trimmed Mean, co-variance"
   ]
  },
  {
   "cell_type": "code",
   "execution_count": 6,
   "metadata": {},
   "outputs": [],
   "source": [
    "#measure how spread is your data - Range\n",
    "def data_range(x):\n",
    "    return max(x) - min(x)\n",
    "\n",
    "def variance(x):\n",
    "    n = mean(x)\n",
    "    return sum((x-n)**2)/len(x)-1\n",
    "\n",
    "def standard_deviation(x):\n",
    "    return math.sqrt(variance(x))\n",
    "\n",
    "#measures how two variables vary in tandem from their means\n",
    "#The variance can take any positive or negative values. The values are interpreted as follows:\n",
    "#Positive covariance: Indicates that two variables tend to move in the same direction.\n",
    "#Negative covariance: Reveals that two variables tend to move in inverse directions.\n",
    "def covariance(x,y):\n",
    "    n = mean(x)\n",
    "    m = mean(y)\n",
    "    return sum((x-n)*(y-m))/len(x) - 1\n",
    "    \n",
    "def correlation(x,y):\n",
    "    s_x = standard_deviation(x)\n",
    "    s_y = standard_deviation(y)\n",
    "    if s_x > 0 and s_y > 0:\n",
    "        return covariance(x,y)/s_x*s_y\n",
    "    else:\n",
    "        return 0 #if no variation, correlation is zero\n",
    "    \n",
    "\n"
   ]
  },
  {
   "cell_type": "code",
   "execution_count": null,
   "metadata": {},
   "outputs": [],
   "source": []
  }
 ],
 "metadata": {
  "kernelspec": {
   "display_name": "Python 2",
   "language": "python",
   "name": "python2"
  },
  "language_info": {
   "codemirror_mode": {
    "name": "ipython",
    "version": 2
   },
   "file_extension": ".py",
   "mimetype": "text/x-python",
   "name": "python",
   "nbconvert_exporter": "python",
   "pygments_lexer": "ipython2",
   "version": "2.7.15"
  }
 },
 "nbformat": 4,
 "nbformat_minor": 2
}
