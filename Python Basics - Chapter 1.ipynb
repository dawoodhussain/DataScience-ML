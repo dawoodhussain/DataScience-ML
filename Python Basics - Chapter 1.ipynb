{
 "cells": [
  {
   "cell_type": "markdown",
   "metadata": {},
   "source": [
    "# Welcome to Python\n",
    "## Here is our first Program - Hello World!"
   ]
  },
  {
   "cell_type": "code",
   "execution_count": 1,
   "metadata": {},
   "outputs": [
    {
     "name": "stdout",
     "output_type": "stream",
     "text": [
      "Hellow World!!\n"
     ]
    }
   ],
   "source": [
    "print('Hellow World!!')"
   ]
  },
  {
   "cell_type": "markdown",
   "metadata": {},
   "source": [
    "### The same Hello world program in Dotnet\n",
    "### see how much you reduced in Python - User Friendly"
   ]
  },
  {
   "cell_type": "code",
   "execution_count": 68,
   "metadata": {},
   "outputs": [
    {
     "data": {
      "text/plain": [
       "' Hello World! program\\nnamespace HelloWorld\\n{\\n    class Hello {         \\n        static void Main(string[] args)\\n        {\\n            \\n           a+b  ;\\n            \\n            \\n                                        System.Console.WriteLine(\"Hello World!\");\\n        }\\n    }\\n}\\n'"
      ]
     },
     "execution_count": 68,
     "metadata": {},
     "output_type": "execute_result"
    }
   ],
   "source": [
    "\"\"\" Hello World! program\n",
    "namespace HelloWorld\n",
    "{\n",
    "    class Hello {         \n",
    "        static void Main(string[] args)\n",
    "        {\n",
    "            \n",
    "           a+b  ;\n",
    "            \n",
    "            \n",
    "                                        System.Console.WriteLine(\"Hello World!\");\n",
    "        }\n",
    "    }\n",
    "}\n",
    "\"\"\""
   ]
  },
  {
   "cell_type": "markdown",
   "metadata": {},
   "source": [
    "## types of comments in Python"
   ]
  },
  {
   "cell_type": "code",
   "execution_count": 70,
   "metadata": {},
   "outputs": [
    {
     "data": {
      "text/plain": [
       "'This is a multi-line \\ncomment'"
      ]
     },
     "execution_count": 70,
     "metadata": {},
     "output_type": "execute_result"
    }
   ],
   "source": [
    "\"\"\"This is a multi-line \n",
    "comment\"\"\"\n",
    "\n",
    "#this is a single line comment"
   ]
  },
  {
   "cell_type": "markdown",
   "metadata": {},
   "source": [
    "## importance of Indentation (WhiteSpace) in Python\n",
    "### below code throws error due to improper indentations within the code"
   ]
  },
  {
   "cell_type": "code",
   "execution_count": 71,
   "metadata": {},
   "outputs": [
    {
     "ename": "IndentationError",
     "evalue": "expected an indented block (<ipython-input-71-42681faabe76>, line 3)",
     "output_type": "error",
     "traceback": [
      "\u001b[1;36m  File \u001b[1;32m\"<ipython-input-71-42681faabe76>\"\u001b[1;36m, line \u001b[1;32m3\u001b[0m\n\u001b[1;33m    print('Yes it is greater')\u001b[0m\n\u001b[1;37m        ^\u001b[0m\n\u001b[1;31mIndentationError\u001b[0m\u001b[1;31m:\u001b[0m expected an indented block\n"
     ]
    }
   ],
   "source": [
    "a=30\n",
    "if a>25:\n",
    "print('Yes it is greater')"
   ]
  },
  {
   "cell_type": "code",
   "execution_count": 72,
   "metadata": {},
   "outputs": [],
   "source": [
    "# bulding block of python is object - Variable\n",
    "# = assigning value\n",
    "\n",
    "#-------------Strictly typed language (jave, dotnet)-----------\n",
    "#a int;\n",
    "#a = 30;\n",
    "\n",
    "#-------------dynamically typed language---------\n",
    "a=30 #int\n",
    "b=\"Salman\" #str\n",
    "c=30.06 #float"
   ]
  },
  {
   "cell_type": "code",
   "execution_count": 74,
   "metadata": {},
   "outputs": [
    {
     "name": "stdout",
     "output_type": "stream",
     "text": [
      "a: <class 'int'>\n",
      "b: <class 'str'>\n",
      "c: <class 'float'>\n"
     ]
    }
   ],
   "source": [
    "#type function is used to know the datatype of an object\n",
    "print('a:',type(a))\n",
    "print('b:',type(b))\n",
    "print('c:',type(c))"
   ]
  },
  {
   "cell_type": "code",
   "execution_count": 75,
   "metadata": {},
   "outputs": [
    {
     "name": "stdout",
     "output_type": "stream",
     "text": [
      "True False\n"
     ]
    },
    {
     "data": {
      "text/plain": [
       "bool"
      ]
     },
     "execution_count": 75,
     "metadata": {},
     "output_type": "execute_result"
    }
   ],
   "source": [
    "#Boolean - True or False\n",
    "d=True\n",
    "e=False\n",
    "print(d,e)\n",
    "type(d)"
   ]
  },
  {
   "cell_type": "code",
   "execution_count": 76,
   "metadata": {},
   "outputs": [
    {
     "name": "stdout",
     "output_type": "stream",
     "text": [
      "67 10080 -7 1.4285714285714286\n",
      "<class 'int'> <class 'int'> <class 'int'> <class 'float'>\n"
     ]
    }
   ],
   "source": [
    "#create a calculator which performs Add,Sub,Mul,Division from above learning\n",
    "a=30\n",
    "b=21\n",
    "c=16\n",
    "\n",
    "Adding = a+b+c\n",
    "Subtracting = a-b-c\n",
    "Multi = a*b*c\n",
    "Div = a/b\n",
    "print(Adding, Multi,Subtracting,Div)\n",
    "print(type(Adding), type(Multi),type(Subtracting),type(Div))"
   ]
  },
  {
   "cell_type": "markdown",
   "metadata": {},
   "source": [
    "## PEMDAS rule"
   ]
  },
  {
   "cell_type": "code",
   "execution_count": 19,
   "metadata": {},
   "outputs": [
    {
     "name": "stdout",
     "output_type": "stream",
     "text": [
      "Value :  1252\n"
     ]
    }
   ],
   "source": [
    "#parenthesis, Exponential, Mul, Div, Add, Sub\n",
    "val = (a*b)+c**2+b*c+a\n",
    "print('Value : ',val"
   ]
  },
  {
   "cell_type": "code",
   "execution_count": 77,
   "metadata": {},
   "outputs": [
    {
     "name": "stdout",
     "output_type": "stream",
     "text": [
      "This is just a comment,such a huuuuuuuuuuuuuge string\n",
      "am gonna write now\n"
     ]
    }
   ],
   "source": [
    "val2 = \"This is just a comment\" #singline strings\n",
    "val1 = \"\"\"such a huuuuuuuuuuuuuge string\n",
    "am gonna write now\"\"\" #Multiline strings ex: paragraphs\n",
    "val3 = val2 +',' + val1\n",
    "\n",
    "print(val3)"
   ]
  },
  {
   "cell_type": "markdown",
   "metadata": {},
   "source": [
    "### None Type - used to create an object with no specific datatype. This object can be used later down the line when required"
   ]
  },
  {
   "cell_type": "code",
   "execution_count": 82,
   "metadata": {},
   "outputs": [
    {
     "name": "stdout",
     "output_type": "stream",
     "text": [
      "<class 'NoneType'>\n"
     ]
    },
    {
     "data": {
      "text/plain": [
       "int"
      ]
     },
     "execution_count": 82,
     "metadata": {},
     "output_type": "execute_result"
    }
   ],
   "source": [
    "a = None\n",
    "print(type(a))\n",
    "a=3\n",
    "type(a)"
   ]
  },
  {
   "cell_type": "markdown",
   "metadata": {},
   "source": [
    "## Lists - Example"
   ]
  },
  {
   "cell_type": "code",
   "execution_count": 83,
   "metadata": {},
   "outputs": [
    {
     "name": "stdout",
     "output_type": "stream",
     "text": [
      "Suleman 4567\n"
     ]
    }
   ],
   "source": [
    "#Array (drawbacks) - will have fixed length, and it should have same datatype\n",
    "#lists are introduced with dynamically growing lengths & it contains multiple datatype elements\n",
    "\n",
    "PhoneNumbers_Name = [\"Dawood\",\"Althaf\",\"Suleman\",\"Bob\"]\n",
    "PhoneNumbers_No = [\"8888\",\"1234\",\"4567\",\"6632\"]\n",
    "#print(PhoneNumbers_Name,PhoneNumbers_No)\n",
    "\n",
    "#lists are zero based index elements\n",
    "print(PhoneNumbers_Name[2],PhoneNumbers_No[2])"
   ]
  },
  {
   "cell_type": "markdown",
   "metadata": {},
   "source": [
    "## Slicing Techniques"
   ]
  },
  {
   "cell_type": "code",
   "execution_count": 84,
   "metadata": {},
   "outputs": [
    {
     "data": {
      "text/plain": [
       "[['Dawood', 'Althaf', 'Suleman'], ['8888', '1234', '4567']]"
      ]
     },
     "execution_count": 84,
     "metadata": {},
     "output_type": "execute_result"
    }
   ],
   "source": [
    "Relatives_no = [PhoneNumbers_Name[:3],PhoneNumbers_No[:3]]\n",
    "#[inclusive:exclusive]\n",
    "Relatives_no"
   ]
  },
  {
   "cell_type": "code",
   "execution_count": 85,
   "metadata": {},
   "outputs": [
    {
     "name": "stdout",
     "output_type": "stream",
     "text": [
      "['Dawood', 'Althaf', 'Suleman', 'Bob', 'XYZ'] ['8888', '1234', '4567', '6632', '9963']\n"
     ]
    }
   ],
   "source": [
    "PhoneNumbers_Name.append(\"XYZ\")\n",
    "PhoneNumbers_No.append('9963')\n",
    "\n",
    "print(PhoneNumbers_Name,PhoneNumbers_No)"
   ]
  },
  {
   "cell_type": "code",
   "execution_count": 43,
   "metadata": {},
   "outputs": [
    {
     "data": {
      "text/plain": [
       "['Althaf', 'Suleman', 'Bob', 'XYZ']"
      ]
     },
     "execution_count": 43,
     "metadata": {},
     "output_type": "execute_result"
    }
   ],
   "source": [
    "PhoneNumbers_Name[1:]"
   ]
  },
  {
   "cell_type": "markdown",
   "metadata": {},
   "source": [
    "## Floor & Ceiling"
   ]
  },
  {
   "cell_type": "code",
   "execution_count": 86,
   "metadata": {},
   "outputs": [
    {
     "name": "stdout",
     "output_type": "stream",
     "text": [
      "2.5\n",
      "2\n"
     ]
    }
   ],
   "source": [
    "#Normal Division\n",
    "print(5/2) # --> Float\n",
    "\n",
    "#Floor Division\n",
    "print(5//2) # --> int"
   ]
  },
  {
   "cell_type": "code",
   "execution_count": 87,
   "metadata": {},
   "outputs": [
    {
     "data": {
      "text/plain": [
       "'This is awesome!This is awesome!This is awesome!This is awesome!This is awesome!This is awesome!This is awesome!This is awesome!This is awesome!This is awesome!This is awesome!This is awesome!This is awesome!This is awesome!This is awesome!This is awesome!This is awesome!This is awesome!This is awesome!This is awesome!This is awesome!This is awesome!This is awesome!This is awesome!This is awesome!This is awesome!This is awesome!This is awesome!This is awesome!This is awesome!This is awesome!This is awesome!This is awesome!This is awesome!This is awesome!This is awesome!This is awesome!This is awesome!This is awesome!This is awesome!This is awesome!This is awesome!This is awesome!This is awesome!This is awesome!This is awesome!This is awesome!This is awesome!This is awesome!This is awesome!'"
      ]
     },
     "execution_count": 87,
     "metadata": {},
     "output_type": "execute_result"
    }
   ],
   "source": [
    "#String Multiplication\n",
    "var1 = \"This is awesome!\"\n",
    "var1*50"
   ]
  },
  {
   "cell_type": "markdown",
   "metadata": {},
   "source": [
    "## Basic Operators"
   ]
  },
  {
   "cell_type": "code",
   "execution_count": 88,
   "metadata": {},
   "outputs": [
    {
     "data": {
      "text/plain": [
       "False"
      ]
     },
     "execution_count": 88,
     "metadata": {},
     "output_type": "execute_result"
    }
   ],
   "source": [
    "#aasinging\n",
    "a,b=30,20\n",
    "#equality\n",
    "a==30\n",
    "#inequality\n",
    "a!=30\n",
    "#greater than\n",
    "a>b\n",
    "#less than\n",
    "a<b"
   ]
  },
  {
   "cell_type": "markdown",
   "metadata": {},
   "source": [
    "## Dictionary - Example"
   ]
  },
  {
   "cell_type": "code",
   "execution_count": 53,
   "metadata": {},
   "outputs": [
    {
     "data": {
      "text/plain": [
       "{'Dawood': '8888', 'Althaf': '1234', 'Suleman': '4567', 'Bob': '6632'}"
      ]
     },
     "execution_count": 53,
     "metadata": {},
     "output_type": "execute_result"
    }
   ],
   "source": [
    "phone_dict = {\"Dawood\":\"8888\",\"Althaf\":\"1234\",\"Suleman\":\"4567\",\"Bob\":\"6632\"}\n",
    "phone_dict"
   ]
  },
  {
   "cell_type": "code",
   "execution_count": 54,
   "metadata": {},
   "outputs": [
    {
     "data": {
      "text/plain": [
       "dict_keys(['Dawood', 'Althaf', 'Suleman', 'Bob'])"
      ]
     },
     "execution_count": 54,
     "metadata": {},
     "output_type": "execute_result"
    }
   ],
   "source": [
    "phone_dict.keys()"
   ]
  },
  {
   "cell_type": "code",
   "execution_count": 55,
   "metadata": {},
   "outputs": [
    {
     "data": {
      "text/plain": [
       "dict_values(['8888', '1234', '4567', '6632'])"
      ]
     },
     "execution_count": 55,
     "metadata": {},
     "output_type": "execute_result"
    }
   ],
   "source": [
    "phone_dict.values()"
   ]
  },
  {
   "cell_type": "code",
   "execution_count": 60,
   "metadata": {},
   "outputs": [
    {
     "data": {
      "text/plain": [
       "dict_items([('Dawood', '8888'), ('Althaf', '1234'), ('Bob', '6632'), ('Salman', '4567')])"
      ]
     },
     "execution_count": 60,
     "metadata": {},
     "output_type": "execute_result"
    }
   ],
   "source": [
    "phone_dict.items()"
   ]
  },
  {
   "cell_type": "code",
   "execution_count": 57,
   "metadata": {},
   "outputs": [
    {
     "data": {
      "text/plain": [
       "'4567'"
      ]
     },
     "execution_count": 57,
     "metadata": {},
     "output_type": "execute_result"
    }
   ],
   "source": [
    "phone_dict['Suleman']"
   ]
  },
  {
   "cell_type": "code",
   "execution_count": 59,
   "metadata": {},
   "outputs": [
    {
     "data": {
      "text/plain": [
       "{'Dawood': '8888', 'Althaf': '1234', 'Bob': '6632', 'Salman': '4567'}"
      ]
     },
     "execution_count": 59,
     "metadata": {},
     "output_type": "execute_result"
    }
   ],
   "source": [
    "#modifying a dictionary Key\n",
    "phone_dict['Salman'] = phone_dict.pop('Suleman')\n",
    "phone_dict"
   ]
  },
  {
   "cell_type": "code",
   "execution_count": 62,
   "metadata": {},
   "outputs": [
    {
     "data": {
      "text/plain": [
       "'4567'"
      ]
     },
     "execution_count": 62,
     "metadata": {},
     "output_type": "execute_result"
    }
   ],
   "source": [
    "phone_dict['Salman']\n",
    "phone_dict.get('Salman')"
   ]
  },
  {
   "cell_type": "markdown",
   "metadata": {},
   "source": [
    "## Tuples"
   ]
  },
  {
   "cell_type": "code",
   "execution_count": 89,
   "metadata": {},
   "outputs": [
    {
     "name": "stdout",
     "output_type": "stream",
     "text": [
      "[('Dawood', '1234'), ('Althaf', '4567'), ('Salman', '6678')]\n"
     ]
    },
    {
     "data": {
      "text/plain": [
       "1"
      ]
     },
     "execution_count": 89,
     "metadata": {},
     "output_type": "execute_result"
    }
   ],
   "source": [
    "var_t = (24,36)\n",
    "list_of_tuples = [('Dawood','1234'),('Althaf','4567'),('Salman','6678')]\n",
    "print(list_of_tuples)\n",
    "\n",
    "# tuples of immutable\n",
    "#mutable = modify\n",
    "#immutable = cannot modify\n",
    "\n",
    "tuple.count(1)"
   ]
  },
  {
   "cell_type": "code",
   "execution_count": null,
   "metadata": {},
   "outputs": [],
   "source": []
  }
 ],
 "metadata": {
  "kernelspec": {
   "display_name": "Python 3",
   "language": "python",
   "name": "python3"
  },
  "language_info": {
   "codemirror_mode": {
    "name": "ipython",
    "version": 3
   },
   "file_extension": ".py",
   "mimetype": "text/x-python",
   "name": "python",
   "nbconvert_exporter": "python",
   "pygments_lexer": "ipython3",
   "version": "3.7.1"
  }
 },
 "nbformat": 4,
 "nbformat_minor": 2
}
