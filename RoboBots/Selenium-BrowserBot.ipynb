{
 "cells": [
  {
   "cell_type": "code",
   "execution_count": 1,
   "metadata": {},
   "outputs": [
    {
     "name": "stdout",
     "output_type": "stream",
     "text": [
      "Collecting selenium\n",
      "  Downloading https://files.pythonhosted.org/packages/80/d6/4294f0b4bce4de0abf13e17190289f9d0613b0a44e5dd6a7f5ca98459853/selenium-3.141.0-py2.py3-none-any.whl (904kB)\n",
      "Requirement already satisfied: urllib3 in c:\\users\\msdaw\\anaconda3\\lib\\site-packages (from selenium) (1.24.1)\n",
      "Installing collected packages: selenium\n",
      "Successfully installed selenium-3.141.0\n"
     ]
    }
   ],
   "source": [
    "!pip install selenium"
   ]
  },
  {
   "cell_type": "code",
   "execution_count": 1,
   "metadata": {},
   "outputs": [],
   "source": [
    "from selenium import webdriver\n",
    "import time\n",
    "\n",
    "driver = webdriver.Chrome(r'C:\\Users\\msdaw\\Downloads\\chromedriver_win32\\chromedriver.exe')\n",
    "\n",
    "driver.set_page_load_timeout(10)\n",
    "driver.get('https://www.youtube.com/')\n",
    "driver.find_element_by_name('search_query').send_keys('pubg play')\n",
    "driver.find_element_by_id('search-icon-legacy').click()\n",
    "time.sleep(4)\n",
    "driver.quit()"
   ]
  },
  {
   "cell_type": "code",
   "execution_count": 1,
   "metadata": {},
   "outputs": [
    {
     "name": "stdout",
     "output_type": "stream",
     "text": [
      "Collecting pyautogui\n",
      "  Downloading https://files.pythonhosted.org/packages/b0/f5/d7b39c588c2ef64e537471e53e5750a426a1a78dcab9e65f502f4b022704/PyAutoGUI-0.9.42.tar.gz (49kB)\n",
      "Collecting pymsgbox (from pyautogui)\n",
      "  Downloading https://files.pythonhosted.org/packages/b6/65/86379ede1db26c40e7972d7a41c69cdf12cc6a0f143749aabf67ab8a41a1/PyMsgBox-1.0.6.zip\n",
      "Collecting PyTweening>=1.0.1 (from pyautogui)\n",
      "  Downloading https://files.pythonhosted.org/packages/b9/f8/c32a58d6e4dff8aa5c27e907194d69f3b57e525c2e4af96f39c6e9c854d2/PyTweening-1.0.3.zip\n",
      "Requirement already satisfied: Pillow in c:\\users\\msdaw\\anaconda3\\lib\\site-packages (from pyautogui) (5.3.0)\n",
      "Collecting pyscreeze>=0.1.20 (from pyautogui)\n",
      "  Downloading https://files.pythonhosted.org/packages/7a/89/3e22a1cbbaa77c81e058bd87b8481f0f331b3da6438cdc77d255a932777c/PyScreeze-0.1.21.tar.gz\n",
      "Collecting pygetwindow (from pyautogui)\n",
      "  Downloading https://files.pythonhosted.org/packages/8c/95/d401a85c5e9a40fac545708961b38beb5a71c9a8fc607de30d31f03de17e/PyGetWindow-0.0.5.tar.gz\n",
      "Collecting pyrect (from pygetwindow->pyautogui)\n",
      "  Downloading https://files.pythonhosted.org/packages/2f/68/bd7bf96fc44217e769f27912e6c9bb3e9987cba286054af6120448ce8212/PyRect-0.1.4.tar.gz\n",
      "Building wheels for collected packages: pyautogui, pymsgbox, PyTweening, pyscreeze, pygetwindow, pyrect\n",
      "  Running setup.py bdist_wheel for pyautogui: started\n",
      "  Running setup.py bdist_wheel for pyautogui: finished with status 'done'\n",
      "  Stored in directory: C:\\Users\\msdaw\\AppData\\Local\\pip\\Cache\\wheels\\fe\\13\\a1\\253420f083f6cbe51cf183758c179fdcb34706e084c7d19382\n",
      "  Running setup.py bdist_wheel for pymsgbox: started\n",
      "  Running setup.py bdist_wheel for pymsgbox: finished with status 'done'\n",
      "  Stored in directory: C:\\Users\\msdaw\\AppData\\Local\\pip\\Cache\\wheels\\61\\52\\a7\\48714fe44cc4606c6e08280d6d655dd6d790cec126928e4ffc\n",
      "  Running setup.py bdist_wheel for PyTweening: started\n",
      "  Running setup.py bdist_wheel for PyTweening: finished with status 'done'\n",
      "  Stored in directory: C:\\Users\\msdaw\\AppData\\Local\\pip\\Cache\\wheels\\7b\\92\\30\\06e21159eed2709436bfb6d7c690959e578cf74f029643866e\n",
      "  Running setup.py bdist_wheel for pyscreeze: started\n",
      "  Running setup.py bdist_wheel for pyscreeze: finished with status 'done'\n",
      "  Stored in directory: C:\\Users\\msdaw\\AppData\\Local\\pip\\Cache\\wheels\\43\\f4\\78\\d090a0f5566b88c836fbe5567c60a1f69149a8e860e12b8612\n",
      "  Running setup.py bdist_wheel for pygetwindow: started\n",
      "  Running setup.py bdist_wheel for pygetwindow: finished with status 'done'\n",
      "  Stored in directory: C:\\Users\\msdaw\\AppData\\Local\\pip\\Cache\\wheels\\47\\4c\\28\\1df5d4e822ecf1dc33eac25981b8b0ee02769b2bf1e08896c9\n",
      "  Running setup.py bdist_wheel for pyrect: started\n",
      "  Running setup.py bdist_wheel for pyrect: finished with status 'done'\n",
      "  Stored in directory: C:\\Users\\msdaw\\AppData\\Local\\pip\\Cache\\wheels\\3e\\61\\83\\8fd1478e984f7378e57972f5fd9bb0dbffc349fefc9efa5bf9\n",
      "Successfully built pyautogui pymsgbox PyTweening pyscreeze pygetwindow pyrect\n",
      "Installing collected packages: pymsgbox, PyTweening, pyscreeze, pyrect, pygetwindow, pyautogui\n",
      "Successfully installed PyTweening-1.0.3 pyautogui-0.9.42 pygetwindow-0.0.5 pymsgbox-1.0.6 pyrect-0.1.4 pyscreeze-0.1.21\n"
     ]
    }
   ],
   "source": [
    "!pip install pyautogui"
   ]
  },
  {
   "cell_type": "code",
   "execution_count": 2,
   "metadata": {},
   "outputs": [],
   "source": [
    "import pyautogui"
   ]
  },
  {
   "cell_type": "code",
   "execution_count": 3,
   "metadata": {},
   "outputs": [
    {
     "data": {
      "text/plain": [
       "Point(x=563, y=884)"
      ]
     },
     "execution_count": 3,
     "metadata": {},
     "output_type": "execute_result"
    }
   ],
   "source": [
    "pyautogui.position()"
   ]
  },
  {
   "cell_type": "code",
   "execution_count": null,
   "metadata": {},
   "outputs": [],
   "source": []
  }
 ],
 "metadata": {
  "kernelspec": {
   "display_name": "Python 3",
   "language": "python",
   "name": "python3"
  },
  "language_info": {
   "codemirror_mode": {
    "name": "ipython",
    "version": 3
   },
   "file_extension": ".py",
   "mimetype": "text/x-python",
   "name": "python",
   "nbconvert_exporter": "python",
   "pygments_lexer": "ipython3",
   "version": "3.7.1"
  }
 },
 "nbformat": 4,
 "nbformat_minor": 2
}
